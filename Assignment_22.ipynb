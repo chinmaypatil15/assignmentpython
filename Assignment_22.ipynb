{
 "cells": [
  {
   "cell_type": "code",
   "execution_count": 24,
   "id": "0b41aa25",
   "metadata": {},
   "outputs": [
    {
     "name": "stdout",
     "output_type": "stream",
     "text": [
      "iNeuron\n"
     ]
    }
   ],
   "source": [
    "#1. What is the result of the code, and explain?\n",
    "X = 'iNeuron'\n",
    "def func():\n",
    "    print(X)\n",
    "\n",
    "func()\n"
   ]
  },
  {
   "cell_type": "code",
   "execution_count": null,
   "id": "7fb3e337",
   "metadata": {},
   "outputs": [],
   "source": [
    "#Answer = \n",
    "# The output is \"iNeuron\".\n",
    "\n",
    "#In this code, a global variable named \"X\" is defined with the value \"iNeuron\". \n",
    "#Then a function named \"func\" is defined that prints the value of \"X\". \n",
    "#Finally, the function is called which results in printing the value of the global variable \"X\" which is \"iNeuron\"."
   ]
  },
  {
   "cell_type": "code",
   "execution_count": 23,
   "id": "7ac033e7",
   "metadata": {},
   "outputs": [
    {
     "name": "stdout",
     "output_type": "stream",
     "text": [
      "iNeuron\n"
     ]
    }
   ],
   "source": [
    "#2. What is the result of the code, and explain?\n",
    "X = 'iNeuron'\n",
    "def func():\n",
    "    X = 'NI!'\n",
    "\n",
    "func()\n",
    "print(X)\n"
   ]
  },
  {
   "cell_type": "code",
   "execution_count": 8,
   "id": "ea6b636d",
   "metadata": {},
   "outputs": [],
   "source": [
    "#Answer = \n",
    "# The output is \"iNeuron\".\n",
    "\n",
    "#In this code, a global variable named \"X\" is defined with the value \"iNeuron\". \n",
    "#Then a function named \"func\" is defined that creates a local variable named \"X\" with the value \"NI!\". \n",
    "#Finally, the function is called and the value of the global variable \"X\" is printed which is still \"iNeuron\" and the local variable created inside the function is not affecting the global variable."
   ]
  },
  {
   "cell_type": "code",
   "execution_count": 22,
   "id": "89caad34",
   "metadata": {},
   "outputs": [
    {
     "name": "stdout",
     "output_type": "stream",
     "text": [
      "NI!\n",
      "iNeuron\n"
     ]
    }
   ],
   "source": [
    "#3. What does this code print, and why?\n",
    "X = 'iNeuron'\n",
    "def func():\n",
    "    X = 'NI!'\n",
    "    print(X)\n",
    "\n",
    "func()\n",
    "print(X)\n"
   ]
  },
  {
   "cell_type": "code",
   "execution_count": 14,
   "id": "048628dc",
   "metadata": {},
   "outputs": [],
   "source": [
    "#Answer = \n",
    "#The first print statement is inside the func function, so it will print the value of the local variable X, which is assigned the value 'NI!'.\n",
    "#The second print statement is outside the func function, so it will print the value of the global variable X, which is assigned the value 'iNeuron'."
   ]
  },
  {
   "cell_type": "code",
   "execution_count": 21,
   "id": "adc93eec",
   "metadata": {},
   "outputs": [
    {
     "name": "stdout",
     "output_type": "stream",
     "text": [
      "NI!\n",
      "NI!\n"
     ]
    }
   ],
   "source": [
    "#4. What output does this code produce? Why?\n",
    "X = 'iNeuron'\n",
    "def func():\n",
    "    global X\n",
    "    X = 'NI!'\n",
    "    print(X)\n",
    "\n",
    "func()\n",
    "print(X)\n"
   ]
  },
  {
   "cell_type": "code",
   "execution_count": 18,
   "id": "99631e6b",
   "metadata": {},
   "outputs": [],
   "source": [
    "#Answer = \n",
    "#since the X in side function is made Global, it will be accesible out side of the function too. \n",
    "#now X will have new value.\n",
    "#The code defines a global variable X with the string value 'iNeuron'.\n",
    "#The function func is defined and modifies the global variable X by assigning a new value to it, 'NI!'.\n",
    "#When the function is called with func(), the new value of X is printed 'NI!'.\n",
    "#After the function is called, the global variable X is printed again, this time with its new value 'NI!'."
   ]
  },
  {
   "cell_type": "code",
   "execution_count": 26,
   "id": "31b07955",
   "metadata": {},
   "outputs": [
    {
     "name": "stdout",
     "output_type": "stream",
     "text": [
      "iNeuron\n",
      "iNeuron\n"
     ]
    }
   ],
   "source": [
    "#5. What about this code—what’s the output, and why?\n",
    "\n",
    "X = 'iNeuron'\n",
    "def func():\n",
    "    X = 'NI'\n",
    "def nested():\n",
    "    print(X)\n",
    "nested()\n",
    "func()\n",
    "print(X)\n",
    "\n",
    "\n"
   ]
  },
  {
   "cell_type": "code",
   "execution_count": 27,
   "id": "48c126a5",
   "metadata": {},
   "outputs": [],
   "source": [
    "#Answer = \n",
    "#The code defines a global variable X with the string value 'iNeuron'.\n",
    "#The function func is defined, but does not modify the value of X.\n",
    "#The function nested is defined and prints the value of X, which is still 'iNeuron'.\n",
    "#The function func is called, but it does not modify the value of X.\n",
    "#Finally, the global variable X is printed and still has the value 'iNeuron'."
   ]
  },
  {
   "cell_type": "code",
   "execution_count": 33,
   "id": "3d76592d",
   "metadata": {},
   "outputs": [
    {
     "name": "stdout",
     "output_type": "stream",
     "text": [
      "spam\n"
     ]
    }
   ],
   "source": [
    "#6. How about this code: what is its output in Python 3, and explain?\n",
    "\n",
    "def func():\n",
    "    X = 'NI'\n",
    "    def nested():\n",
    "        nonlocal X\n",
    "        X = 'spam'\n",
    "    nested()\n",
    "    print(X)\n",
    "\n",
    "func()\n"
   ]
  },
  {
   "cell_type": "code",
   "execution_count": null,
   "id": "a72f75e8",
   "metadata": {},
   "outputs": [],
   "source": [
    "#Nonlocal variables are used in nested functions whose local scope is not defined. \n",
    "#This means that the variable can be neither in the local nor the global scope. it print the updated value from nested \n",
    "#function\n"
   ]
  }
 ],
 "metadata": {
  "kernelspec": {
   "display_name": "Python 3 (ipykernel)",
   "language": "python",
   "name": "python3"
  },
  "language_info": {
   "codemirror_mode": {
    "name": "ipython",
    "version": 3
   },
   "file_extension": ".py",
   "mimetype": "text/x-python",
   "name": "python",
   "nbconvert_exporter": "python",
   "pygments_lexer": "ipython3",
   "version": "3.9.12"
  }
 },
 "nbformat": 4,
 "nbformat_minor": 5
}
