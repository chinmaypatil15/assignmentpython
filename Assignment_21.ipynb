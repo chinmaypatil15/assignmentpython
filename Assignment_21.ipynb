{
 "cells": [
  {
   "cell_type": "markdown",
   "id": "77226a91",
   "metadata": {},
   "source": [
    "# 1. Add the current date to the text file today.txt as a string.\n",
    "Answer="
   ]
  },
  {
   "cell_type": "code",
   "execution_count": 2,
   "id": "663e9529",
   "metadata": {},
   "outputs": [
    {
     "data": {
      "text/plain": [
       "'2023-01-31'"
      ]
     },
     "execution_count": 2,
     "metadata": {},
     "output_type": "execute_result"
    }
   ],
   "source": [
    "import datetime\n",
    "from datetime import date\n",
    "now = date.today()\n",
    "current_date = now.isoformat()\n",
    "current_date"
   ]
  },
  {
   "cell_type": "code",
   "execution_count": 3,
   "id": "c9e9fb11",
   "metadata": {},
   "outputs": [],
   "source": [
    "with open('today.txt','w') as file:\n",
    "    file.write(current_date)"
   ]
  },
  {
   "cell_type": "markdown",
   "id": "cbf6f855",
   "metadata": {},
   "source": [
    "# 2. Read the text file today.txt into the string today_string.\n",
    "Answer="
   ]
  },
  {
   "cell_type": "code",
   "execution_count": 4,
   "id": "9df4d1f0",
   "metadata": {},
   "outputs": [
    {
     "data": {
      "text/plain": [
       "'2023-01-31'"
      ]
     },
     "execution_count": 4,
     "metadata": {},
     "output_type": "execute_result"
    }
   ],
   "source": [
    "with open('today.txt','r') as file:\n",
    "    today_string = file.read()\n",
    "today_string"
   ]
  },
  {
   "cell_type": "markdown",
   "id": "7efbea70",
   "metadata": {},
   "source": [
    "# 3. Parse the date from today_string.\n",
    "Answer="
   ]
  },
  {
   "cell_type": "code",
   "execution_count": 5,
   "id": "b18b3f21",
   "metadata": {},
   "outputs": [
    {
     "data": {
      "text/plain": [
       "datetime.datetime(2023, 1, 31, 0, 0)"
      ]
     },
     "execution_count": 5,
     "metadata": {},
     "output_type": "execute_result"
    }
   ],
   "source": [
    "from datetime import datetime\n",
    "format = '%Y-%m-%d'\n",
    "datetime.strptime(today_string,format)"
   ]
  },
  {
   "cell_type": "markdown",
   "id": "a90c05fc",
   "metadata": {},
   "source": [
    "# 4. List the files in your current directory.\n",
    "Answer="
   ]
  },
  {
   "cell_type": "code",
   "execution_count": 6,
   "id": "d7a35b57",
   "metadata": {},
   "outputs": [
    {
     "data": {
      "text/plain": [
       "['.arduinoIDE',\n",
       " '.conda',\n",
       " '.condarc',\n",
       " '.continuum',\n",
       " '.dotnet',\n",
       " '.gitconfig',\n",
       " '.ipynb_checkpoints',\n",
       " '.ipython',\n",
       " '.jupyter',\n",
       " '.ms-ad',\n",
       " '.Origin',\n",
       " '.QtWebEngineProcess',\n",
       " '.templateengine',\n",
       " '18june.ipynb',\n",
       " '28may class.ipynb',\n",
       " '29may.ipynb',\n",
       " '3D Objects',\n",
       " '4june.ipynb',\n",
       " '5june.ipynb',\n",
       " 'anaconda3',\n",
       " 'AppData',\n",
       " 'Application Data',\n",
       " 'Assignment_18.ipynb',\n",
       " 'Assignment_19.ipynb',\n",
       " 'Assignment_20.ipynb',\n",
       " 'Assignment_21.ipynb',\n",
       " 'books.csv',\n",
       " 'books.db',\n",
       " 'Contacts',\n",
       " 'Cookies',\n",
       " 'Desktop',\n",
       " 'Documents',\n",
       " 'Downloads',\n",
       " 'Favorites',\n",
       " 'Links',\n",
       " 'Local Settings',\n",
       " 'MATLAB',\n",
       " 'Music',\n",
       " 'My Documents',\n",
       " 'My project',\n",
       " 'My project (1)',\n",
       " 'My project (2)',\n",
       " 'My project (3)',\n",
       " 'My project (4)',\n",
       " 'My project1',\n",
       " 'NetHood',\n",
       " 'NTUSER.DAT',\n",
       " 'ntuser.dat.LOG1',\n",
       " 'ntuser.dat.LOG2',\n",
       " 'NTUSER.DAT{a2332f18-cdbf-11ec-8680-002248483d79}.TM.blf',\n",
       " 'NTUSER.DAT{a2332f18-cdbf-11ec-8680-002248483d79}.TMContainer00000000000000000001.regtrans-ms',\n",
       " 'NTUSER.DAT{a2332f18-cdbf-11ec-8680-002248483d79}.TMContainer00000000000000000002.regtrans-ms',\n",
       " 'ntuser.ini',\n",
       " 'OneDrive',\n",
       " 'Pictures',\n",
       " 'PrintHood',\n",
       " 'PycharmProjects',\n",
       " 'Python Basic 21.ipynb',\n",
       " 'Python Basic 22.ipynb',\n",
       " 'Python Basic 23.ipynb',\n",
       " 'Python Basic 24.ipynb',\n",
       " 'Python Basic 25.ipynb',\n",
       " 'Recent',\n",
       " 'Saved Games',\n",
       " 'Searches',\n",
       " 'SendTo',\n",
       " 'source',\n",
       " 'Start Menu',\n",
       " 'Templates',\n",
       " 'test.ipynb',\n",
       " 'test.txt',\n",
       " 'test123.json',\n",
       " 'text1.txt',\n",
       " 'text2.txt',\n",
       " 'today.txt',\n",
       " 'Tracing',\n",
       " 'Untitled.ipynb',\n",
       " 'Untitled1.ipynb',\n",
       " 'Untitled2.ipynb',\n",
       " 'Untitled3.ipynb',\n",
       " 'Untitled4.ipynb',\n",
       " 'Untitled5.ipynb',\n",
       " 'Untitled6.ipynb',\n",
       " 'Untitled7.ipynb',\n",
       " 'Videos',\n",
       " 'zoo.py',\n",
       " '__pycache__']"
      ]
     },
     "execution_count": 6,
     "metadata": {},
     "output_type": "execute_result"
    }
   ],
   "source": [
    "import os\n",
    "os.listdir('.')"
   ]
  },
  {
   "cell_type": "markdown",
   "id": "013e8fe9",
   "metadata": {},
   "source": [
    "# 5. Create a list of all of the files in your parent directory (minimum five files should be available).\n",
    "Answer="
   ]
  },
  {
   "cell_type": "code",
   "execution_count": 37,
   "id": "caad03cb",
   "metadata": {},
   "outputs": [
    {
     "name": "stdout",
     "output_type": "stream",
     "text": [
      "Files and directories in ' C://Users//chinm//Downloads ' :\n",
      "['.ipynb_checkpoints', '1062691.jpg', '1106774.jpg', '1251056.png', '133AP122019.pdf', '18.jpg', '18june (1).ipynb', '18june.ipynb', '2022.pdf', '28may class.ipynb', '29may.ipynb', '3rdJulyResourceLink.docx', '4june.ipynb', '5june.ipynb', '8163547.pdf', '8163547_Payslip_Aug2022.pdf', '8163547_Taxslip_Aug2022.pdf', '8163547_Taxslip_Jul2022.pdf', '8163547_Taxslip_Jun2022.pdf', '8163547_Taxslip_May2022.pdf', '8163547_Taxslip_Sep2022.pdf', 'acknowledgementSlip (1).pdf', 'acknowledgementSlip (2).pdf', 'acknowledgementSlip (3).pdf', 'acknowledgementSlip (4).pdf', 'acknowledgementSlip (5).pdf', 'acknowledgementSlip (6).pdf', 'acknowledgementSlip.pdf', 'Admission_booklet.pdf', 'Advt-No_10_2022-AE_JE_Final.pdf', 'All MATLab certificate.pdf', 'Assignment_21.docx', 'Assignment_22.docx', 'Assignment_23.docx', 'Assignment_24.docx', 'Assignment_25.docx', 'avi pic.jpeg', 'avi sign.jpeg', 'bank', 'bank.zip', 'BArch Marksheet 1.pdf', 'BArch Marksheet.pdf', 'BE marksheet.pdf', 'BIKE.xlsx', 'Black.panther.wakanda.forever.2022.720p.BDRip.Hindi.Clean.DD.2.0.x264.Vegamovies.to.mkv', 'Bloodivores.torrent', 'btech-ect-5-sem-control-system-engg-btexc502-dec-2019.pdf', 'btech-ete-5-sem-electromagnetic-field-theory-btexc501-dec-2019 (1).pdf', 'btech-ete-5-sem-electromagnetic-field-theory-btexc501-dec-2019.pdf', 'btech-extc-4-sem-analog-communication-engineering-btexc402-nov-2019.pdf', 'certificate-5.pdf', 'challenges-main', 'challenges-main.zip', \"Cheat Pharmacist's Slow Life S01 1080p WEBRip AAC x265-EMBER.torrent\", 'Chinmay Training Letter (1).pdf', 'Chinmay Training Letter new.pdf', 'Completed_Mandatory Personal Information Forms_RBS SIPL (1).pdf', 'Completed_Mandatory Personal Information Forms_RBS SIPL.pdf', 'Compressed', 'ContributionPrint.aspx March 2022.pdf', 'CP solar.skp', 'desktop.ini', 'Digital Process.pdf', 'diploma marksheet.pdf', 'Documents', 'DSC_3161 copy.jpg', 'DSC_3161 Resize150.jpg', 'EAadhaar Archana patil_ARCH1970.pdf', 'EAadhaar Chandrakant patil_CHAN1961.pdf', 'EAadhaar Chinmay patil_CHIN1994.pdf', 'EAadhaar Gatresh patil_GATR1999.pdf', 'EAadhaar Sonabai patil_SONA1935.pdf', 'EAadhaar_1088005391267620170929143704_11052022225737.pdf', 'EC-208 ID[AO309].pdf', 'ECall Letter.pdf', 'EFT(4th)May2017.pdf', 'ele hingona home.pdf', 'ele hingona.pdf', 'ele home.pdf', 'eStatement.pdf', 'Exception handling revision .ipynb', 'Final Project Report PK.pdf', 'Final Review - Phase 2.pptx', 'for loop practice  (1).ipynb', 'Git-2.39.0.2-64-bit.exe', 'hall ticket CDAC.pdf', 'HealthID-27-4663-2826-1120.png', 'HealthID-37-6660-3777-7062 (1).png', 'image001.jpg', 'InitiateSingleEntryPaymentSummaryUX504-07-2022.pdf', 'InitiateSingleEntryPaymentSummaryUX516-02-2022.pdf', 'iterator , generator , map , reduce , filter , basic file operation .ipynb', 'Krunali CV.pdf', 'krunali Jangale.docx', 'krunali Jangler.pdf', 'krunali resume-5.pdf', 'krunalipic.jpeg', 'krunalisign.jpeg', 'Letter of Authorization.pdf', 'line left.png', 'line right.png', 'Mahoutsukai Reimeiki S01 1080p Dual Audio WEBRip AAC x265-EMBER.torrent', 'Marathi.exe', 'Marathi.zip', 'Marvels-Spider-Man-Miles-Morales-TRNT.rar', 'MH19CD3909.pdf', 'Music', 'mysql', 'mysql (1).7z', 'mysql.7z', 'Natwest Group.xls', 'New Doc 2022-03-10 12.14.07.pdf', 'oops.rar', 'OPPS_day_2.rar', 'p home ele.pdf', 'pandas class 2.ipynb', 'Patil Chinmay Chandrakant.pdf', 'PaymentReceipt_QVMPB14285761.pdf', 'PolicyCopy.pdf', 'Program schedule 29.06.2022.pdf', 'Programming_Assingment25.docx', 'py', 'Python book.pdf', 'Python Notes - T.Y BSC 5th Sem.4040215.pdf', 'Qin Xia.torrent', 'QVMPB14285761_TwoWheelerOnline valid.pdf', 'QVMPB14285761_TwoWheelerOnline.pdf', 'Revision and task solving (1).ipynb', 'RRR 2022 1080p Hindi ORG WEB-DL FilmyCity.org (1).mkv', 'Second-Year-EXTC-and-Electronics-syllabus-with-revised-course-codes-3-10-2018.pdf', 'Signature.jpg', 'Sono Bisque Doll wa Koi wo Suru [VOSTFR + English Dub&Sub][1080p BluRay][H.265 AAC].torrent', 'sponsorship letter_2.pdf', 'SRM - Installation Guide.pdf', 'statusofapplicationnoin20220421004584.zip', 'sudh1.text', 'swami ele.pdf', 'Telegram Desktop', 'Template.dwg', 'test1.txt', 'The-Sandman-S01E01-STAGATV-COM.mp4', 'The-Sandman-S01E02-STAGATV-COM.mp4', 'The-Sandman-S01E03-STAGATV-COM (2).mp4', 'The-Sandman-S01E04-STAGATV-COM.mp4', 'The.Pyramid.2014.720p.Vegamovies.nl.mkv', 'tilak.png', 'Twowheelerproposal_QVMPB14285761.pdf', 'Untitled.png', 'Untitled1 (1).ipynb', 'Untitled2.ipynb', 'Untitled3.ipynb', 'Untitled4.ipynb', 'Venom.Let.There.Be.Carnage.2021.720p.English.Esubs.Themoviesflix.com.ph.mkv', 'videos', 'WhatsApp Audio 2021-10-16 at 9.07.36 PM.ogg', 'WhatsApp Image 2022-01-25 at 3.18.20 AM.jpeg', 'WhatsApp Image 2022-03-04 at 11.25.14 AM.jpeg', 'WhatsApp Image 2022-04-30 at 4.46.38 PM.jpeg', 'WhatsApp Image 2022-05-30 at 12.51.44 AM.jpeg', 'WhatsApp Image 2022-06-30 at 9.33.31 AM.jpeg', 'WhatsApp Image 2022-10-11 at 10.38.39 PM.jpeg', 'WhatsApp Image.jpeg', 'WhatsApp Video 2022-06-19 at 5.15.40 PM.mp4', 'without Diploma.pdf', 'wp4380049-garou-one-punch-man-wallpapers.png', '[18+]-The-Next-365-Days-(2022)-Hindi-Dubbed-WEB-DL--480p-[Orgmovies].mp4', '[Anime Time] Drug Store in Another World The Slow Life of a Cheat Pharmacist (Season 1) [BD][1080p][HEVC 10bit x265][AAC][Eng Sub].torrent', '[Erai-raws] Rougo ni Sonaete Isekai de 8-manmai no Kinka o Tamemasu - 02 [480p][Multiple Subtitle][E8A4D202].torrent', '[Erai-raws] Rougo ni Sonaete Isekai de 8-manmai no Kinka o Tamemasu - 03 [480p][Multiple Subtitle][4F2A275C].torrent', '[Filmycity.Biz].Everything Everywhere All at Once 2022 Hindi ORG Dual Audio 720p BluRay ESub 1.3GB.mkv', '[iMAX] Spider-Man.No.Way.Home.2021.IMAX.BluRay.Dual.1080p - Vegamovies.to.mkv', '[Yameii] Saving 80,000 Gold in Another World for My Retirement - 01 [English Dub] [WEB-DL 720p] [F6AE584C].torrent', '~$Final Review - Phase 2.pptx', '~$unali Jangale.docx']\n"
     ]
    }
   ],
   "source": [
    "import os\n",
    "path = \"C://Users//chinm//Downloads\"\n",
    "dir_list = os.listdir(path)\n",
    "print(\"Files and directories in '\", path, \"' :\")\n",
    "print(dir_list)"
   ]
  },
  {
   "cell_type": "markdown",
   "id": "82f74084",
   "metadata": {},
   "source": [
    "# 6. Use multiprocessing to create three separate processes. Make each one wait a random number of seconds between one and five, print the current time, and then exit.\n",
    "Answer="
   ]
  },
  {
   "cell_type": "code",
   "execution_count": 7,
   "id": "12a2f1c2",
   "metadata": {},
   "outputs": [],
   "source": [
    "import multiprocessing\n",
    "\n",
    "def printsec(seconds):\n",
    "    from datetime import datetime\n",
    "    from time import sleep\n",
    "    sleep(seconds)\n",
    "    print('wait', seconds, 'seconds, time is', datetime.utcnow())\n",
    "    \n",
    "if __name__ == '__main__':\n",
    "    import random    \n",
    "    for n in range(3):\n",
    "        seconds = random.random()\n",
    "        proc = multiprocessing.Process(target=printsec, args=(seconds,))\n",
    "        proc.start()"
   ]
  },
  {
   "cell_type": "code",
   "execution_count": 8,
   "id": "3d545400",
   "metadata": {},
   "outputs": [
    {
     "ename": "SyntaxError",
     "evalue": "invalid syntax (3307587293.py, line 1)",
     "output_type": "error",
     "traceback": [
      "\u001b[1;36m  Input \u001b[1;32mIn [8]\u001b[1;36m\u001b[0m\n\u001b[1;33m    python abc.py\u001b[0m\n\u001b[1;37m           ^\u001b[0m\n\u001b[1;31mSyntaxError\u001b[0m\u001b[1;31m:\u001b[0m invalid syntax\n"
     ]
    }
   ],
   "source": [
    "python abc.py"
   ]
  },
  {
   "cell_type": "markdown",
   "id": "5f38e80f",
   "metadata": {},
   "source": [
    "# 7. Create a date object of your day of birth.\n",
    "Answer="
   ]
  },
  {
   "cell_type": "code",
   "execution_count": 17,
   "id": "48659617",
   "metadata": {},
   "outputs": [
    {
     "data": {
      "text/plain": [
       "datetime.date(1994, 2, 15)"
      ]
     },
     "execution_count": 17,
     "metadata": {},
     "output_type": "execute_result"
    }
   ],
   "source": [
    "my_dob = date(1994,2,15)\n",
    "my_dob"
   ]
  },
  {
   "cell_type": "markdown",
   "id": "f2400e3f",
   "metadata": {},
   "source": [
    "# 8. What day of the week was your day of birth?\n",
    "Answer="
   ]
  },
  {
   "cell_type": "code",
   "execution_count": 18,
   "id": "e897e585",
   "metadata": {},
   "outputs": [
    {
     "data": {
      "text/plain": [
       "1"
      ]
     },
     "execution_count": 18,
     "metadata": {},
     "output_type": "execute_result"
    }
   ],
   "source": [
    "my_dob.weekday()"
   ]
  },
  {
   "cell_type": "markdown",
   "id": "8756db68",
   "metadata": {},
   "source": [
    "# 9. When will you be (or when were you) 10,000 days old?\n",
    "Answer="
   ]
  },
  {
   "cell_type": "code",
   "execution_count": 19,
   "id": "cf28c499",
   "metadata": {},
   "outputs": [
    {
     "data": {
      "text/plain": [
       "datetime.date(2021, 7, 3)"
      ]
     },
     "execution_count": 19,
     "metadata": {},
     "output_type": "execute_result"
    }
   ],
   "source": [
    "from datetime import timedelta\n",
    "day10000 = my_dob + timedelta(days=10000)\n",
    "day10000"
   ]
  },
  {
   "cell_type": "code",
   "execution_count": null,
   "id": "9743231a",
   "metadata": {},
   "outputs": [],
   "source": []
  }
 ],
 "metadata": {
  "kernelspec": {
   "display_name": "Python 3 (ipykernel)",
   "language": "python",
   "name": "python3"
  },
  "language_info": {
   "codemirror_mode": {
    "name": "ipython",
    "version": 3
   },
   "file_extension": ".py",
   "mimetype": "text/x-python",
   "name": "python",
   "nbconvert_exporter": "python",
   "pygments_lexer": "ipython3",
   "version": "3.9.12"
  }
 },
 "nbformat": 4,
 "nbformat_minor": 5
}
