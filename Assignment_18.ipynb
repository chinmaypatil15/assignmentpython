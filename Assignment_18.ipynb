{
 "cells": [
  {
   "cell_type": "raw",
   "id": "045cd89b",
   "metadata": {},
   "source": [
    "# 1. Create a zoo.py file first. Define the hours() function, which prints the string 'Open 9-5 daily'. Then, use the interactive interpreter to import the zoo module and call its hours() function.\n",
    "Answer="
   ]
  },
  {
   "cell_type": "code",
   "execution_count": 12,
   "id": "c9220485",
   "metadata": {
    "scrolled": true
   },
   "outputs": [],
   "source": [
    "import zoo as z"
   ]
  },
  {
   "cell_type": "raw",
   "id": "f0dd5e5c",
   "metadata": {},
   "source": [
    "2. In the interactive interpreter, import the zoo module as menagerie and call its hours() function.\n",
    "Answer="
   ]
  },
  {
   "cell_type": "code",
   "execution_count": 6,
   "id": "43ceb59d",
   "metadata": {},
   "outputs": [
    {
     "name": "stdout",
     "output_type": "stream",
     "text": [
      "Open 9-5 daily\n"
     ]
    }
   ],
   "source": [
    "import zoo\n",
    "zoo.hours()"
   ]
  },
  {
   "cell_type": "raw",
   "id": "4de93632",
   "metadata": {},
   "source": [
    "3. Using the interpreter, explicitly import and call the hours() function from zoo.\n",
    "Answer="
   ]
  },
  {
   "cell_type": "code",
   "execution_count": 7,
   "id": "37a5bd03",
   "metadata": {},
   "outputs": [
    {
     "name": "stdout",
     "output_type": "stream",
     "text": [
      "Open 9-5 daily\n"
     ]
    }
   ],
   "source": [
    "from zoo import hours\n",
    "hours()"
   ]
  },
  {
   "cell_type": "raw",
   "id": "5e4f38b5",
   "metadata": {},
   "source": [
    "4. Import the hours() function as info and call it.\n",
    "Answer="
   ]
  },
  {
   "cell_type": "code",
   "execution_count": 8,
   "id": "6c9f1a89",
   "metadata": {},
   "outputs": [
    {
     "name": "stdout",
     "output_type": "stream",
     "text": [
      "Open 9-5 daily\n"
     ]
    }
   ],
   "source": [
    "from zoo import hours as info\n",
    "info()\n"
   ]
  },
  {
   "cell_type": "raw",
   "id": "c4dca0e2",
   "metadata": {},
   "source": [
    "5. Create a plain dictionary with the key-value pairs 'a': 1, 'b': 2, and 'c': 3, and print it out.\n",
    "Answer="
   ]
  },
  {
   "cell_type": "code",
   "execution_count": 9,
   "id": "ab7a8da6",
   "metadata": {},
   "outputs": [
    {
     "data": {
      "text/plain": [
       "{'a': 1, 'b': 2, 'c': 3}"
      ]
     },
     "execution_count": 9,
     "metadata": {},
     "output_type": "execute_result"
    }
   ],
   "source": [
    "plain = {'a': 1, 'b': 2, 'c': 3}\n",
    "plain"
   ]
  },
  {
   "cell_type": "raw",
   "id": "6440a035",
   "metadata": {},
   "source": [
    "6.Make an OrderedDict called fancy from the same pairs listed in 5 and print it. Did it print in the same order as plain?\n",
    "Answer="
   ]
  },
  {
   "cell_type": "raw",
   "id": "677d6fc6",
   "metadata": {},
   "source": [
    "it will print in the same order as the list of key-value pairs"
   ]
  },
  {
   "cell_type": "code",
   "execution_count": 11,
   "id": "2c25dc6b",
   "metadata": {},
   "outputs": [
    {
     "name": "stdout",
     "output_type": "stream",
     "text": [
      "OrderedDict([('one', 1), ('two', 2), ('three', 3)])\n"
     ]
    }
   ],
   "source": [
    "from collections import OrderedDict\n",
    "\n",
    "fancy = OrderedDict([(\"one\", 1), (\"two\", 2), (\"three\", 3)])\n",
    "print(fancy)\n"
   ]
  },
  {
   "cell_type": "raw",
   "id": "133b6b6e",
   "metadata": {},
   "source": [
    "7. Make a default dictionary called dict_of_lists and pass it the argument list. Make the list dict_of_lists['a'] and append the value 'something for a' to it in one assignment. Print dict_of_lists['a'].\n",
    "Answer="
   ]
  },
  {
   "cell_type": "code",
   "execution_count": 10,
   "id": "49d84093",
   "metadata": {},
   "outputs": [
    {
     "name": "stdout",
     "output_type": "stream",
     "text": [
      "['something for a']\n"
     ]
    }
   ],
   "source": [
    "from collections import defaultdict\n",
    "\n",
    "dict_of_lists = defaultdict(list)\n",
    "dict_of_lists['a'].append('something for a')\n",
    "print(dict_of_lists['a'])\n"
   ]
  },
  {
   "cell_type": "code",
   "execution_count": null,
   "id": "625aeba7",
   "metadata": {},
   "outputs": [],
   "source": []
  }
 ],
 "metadata": {
  "kernelspec": {
   "display_name": "Python 3 (ipykernel)",
   "language": "python",
   "name": "python3"
  },
  "language_info": {
   "codemirror_mode": {
    "name": "ipython",
    "version": 3
   },
   "file_extension": ".py",
   "mimetype": "text/x-python",
   "name": "python",
   "nbconvert_exporter": "python",
   "pygments_lexer": "ipython3",
   "version": "3.9.12"
  }
 },
 "nbformat": 4,
 "nbformat_minor": 5
}
